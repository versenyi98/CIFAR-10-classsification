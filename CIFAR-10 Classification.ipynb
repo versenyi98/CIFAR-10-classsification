{
 "cells": [
  {
   "cell_type": "code",
   "execution_count": 21,
   "id": "11122581",
   "metadata": {},
   "outputs": [],
   "source": [
    "import torch\n",
    "import torchvision\n",
    "import torchvision.transforms as transforms\n",
    "\n",
    "import numpy as np\n",
    "\n",
    "import matplotlib.pyplot as plt\n",
    "\n",
    "from sklearn.model_selection import train_test_split"
   ]
  },
  {
   "cell_type": "code",
   "execution_count": 2,
   "id": "74d58c72",
   "metadata": {},
   "outputs": [],
   "source": [
    "def set_seed_everywhere(seed, cuda = True):\n",
    "    np.random.seed(seed)\n",
    "    torch.manual_seed(seed)\n",
    "    if cuda:\n",
    "        torch.cuda.manual_seed_all(seed)"
   ]
  },
  {
   "cell_type": "code",
   "execution_count": 3,
   "id": "5008e89b",
   "metadata": {},
   "outputs": [],
   "source": [
    "SEED = 1668\n",
    "set_seed_everywhere(SEED)"
   ]
  },
  {
   "cell_type": "markdown",
   "id": "9fe180e4",
   "metadata": {},
   "source": [
    "### Download\n",
    "\n",
    "Download train and test dataset, but it will be mixed and a 3rd group, `validation` will be created"
   ]
  },
  {
   "cell_type": "code",
   "execution_count": 4,
   "id": "494a66a3",
   "metadata": {},
   "outputs": [
    {
     "name": "stdout",
     "output_type": "stream",
     "text": [
      "Files already downloaded and verified\n"
     ]
    }
   ],
   "source": [
    "trainset = torchvision.datasets.CIFAR10(root='./data', train=True, download=True, transform=transforms.ToTensor())\n",
    "testset = torchvision.datasets.CIFAR10(root='./data', train=False, transform=transforms.ToTensor())"
   ]
  },
  {
   "cell_type": "code",
   "execution_count": 5,
   "id": "ed08d970",
   "metadata": {},
   "outputs": [],
   "source": [
    "X = [entry[0] for entry in trainset] + [entry[0] for entry in testset]\n",
    "y = [entry[1] for entry in trainset] + [entry[1] for entry in testset]"
   ]
  },
  {
   "cell_type": "markdown",
   "id": "da302bec",
   "metadata": {},
   "source": [
    "### Create Train, Test, and Validation datasets"
   ]
  },
  {
   "cell_type": "code",
   "execution_count": 6,
   "id": "38039ac3",
   "metadata": {},
   "outputs": [],
   "source": [
    "test_ratio = 0.15\n",
    "valid_ratio = 0.15\n",
    "\n",
    "valid_ratio = valid_ratio / (1.0 - test_ratio)"
   ]
  },
  {
   "cell_type": "code",
   "execution_count": 7,
   "id": "d6945460",
   "metadata": {},
   "outputs": [],
   "source": [
    "X_train, X_test, y_train, y_test = train_test_split(X, y, test_size = test_ratio, random_state = SEED)\n",
    "X_train, X_val, y_train, y_val = train_test_split(X_train, y_train, test_size = valid_ratio, random_state = SEED)"
   ]
  },
  {
   "cell_type": "code",
   "execution_count": 8,
   "id": "d6a444bd",
   "metadata": {},
   "outputs": [
    {
     "name": "stdout",
     "output_type": "stream",
     "text": [
      "Train dataset size: 42000\n",
      "Test dataset size: 9000\n",
      "Validation dataset size: 9000\n"
     ]
    }
   ],
   "source": [
    "print(f\"Train dataset size: {len(X_train)}\")\n",
    "print(f\"Test dataset size: {len(X_test)}\")\n",
    "print(f\"Validation dataset size: {len(X_val)}\")"
   ]
  },
  {
   "cell_type": "code",
   "execution_count": 35,
   "id": "2f4c25fb",
   "metadata": {},
   "outputs": [],
   "source": [
    "def show_image(image):\n",
    "    np_img = image.numpy()\n",
    "    plt.xlabel = \"Bra\"\n",
    "    plt.imshow(np.transpose(np_img, (1, 2, 0)))\n",
    "    plt.show()"
   ]
  },
  {
   "cell_type": "code",
   "execution_count": 38,
   "id": "eaab8c0e",
   "metadata": {},
   "outputs": [
    {
     "data": {
      "image/png": "[encoded data removed]",
      "text/plain": [
       "<Figure size 432x288 with 1 Axes>"
      ]
     },
     "metadata": {
      "needs_background": "light"
     },
     "output_type": "display_data"
    },
    {
     "name": "stdout",
     "output_type": "stream",
     "text": [
      "[5, 6, 7]\n"
     ]
    }
   ],
   "source": [
    "images = [X_train[0], X_test[0], X_val[0]]\n",
    "labels = [y_train[0], y_test[0], y_val[0]]\n",
    "\n",
    "show_image(torchvision.utils.make_grid(images))\n",
    "print(labels)"
   ]
  }
 ],
 "metadata": {
  "kernelspec": {
   "display_name": "Python 3 (ipykernel)",
   "language": "python",
   "name": "python3"
  },
  "language_info": {
   "codemirror_mode": {
    "name": "ipython",
    "version": 3
   },
   "file_extension": ".py",
   "mimetype": "text/x-python",
   "name": "python",
   "nbconvert_exporter": "python",
   "pygments_lexer": "ipython3",
   "version": "3.8.10"
  }
 },
 "nbformat": 4,
 "nbformat_minor": 5
}
